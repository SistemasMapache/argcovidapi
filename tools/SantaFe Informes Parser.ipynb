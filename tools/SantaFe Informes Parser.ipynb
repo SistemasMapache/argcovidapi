{
 "cells": [
  {
   "cell_type": "code",
   "execution_count": 7,
   "metadata": {},
   "outputs": [],
   "source": [
    "from tabula import read_pdf\n",
    "from itertools import *\n",
    "import os\n",
    "import pandas as pd\n",
    "import numpy as np\n",
    "from common import *"
   ]
  },
  {
   "cell_type": "code",
   "execution_count": 18,
   "metadata": {},
   "outputs": [],
   "source": [
    "IN_PDF_FILENAME = 'asd.pdf'\n",
    "OUT_CSV_FILENAME = 'result.csv'"
   ]
  },
  {
   "cell_type": "code",
   "execution_count": 19,
   "metadata": {},
   "outputs": [
    {
     "name": "stderr",
     "output_type": "stream",
     "text": [
      "Got stderr: abr 04, 2020 4:28:05 PM org.apache.pdfbox.pdmodel.font.PDCIDFontType2 <init>\n",
      "INFORMACIÓN: OpenType Layout tables used in font ABCDEE+Calibri,BoldItalic are not implemented in PDFBox and will be ignored\n",
      "abr 04, 2020 4:28:05 PM org.apache.pdfbox.pdmodel.font.PDCIDFontType2 <init>\n",
      "INFORMACIÓN: OpenType Layout tables used in font ABCDEE+Calibri,Bold are not implemented in PDFBox and will be ignored\n",
      "abr 04, 2020 4:28:05 PM org.apache.pdfbox.pdmodel.font.PDCIDFontType2 <init>\n",
      "INFORMACIÓN: OpenType Layout tables used in font ABCDEE+Calibri are not implemented in PDFBox and will be ignored\n",
      "abr 04, 2020 4:28:05 PM org.apache.pdfbox.rendering.PDFRenderer suggestKCMS\n",
      "INFORMACIÓN: Your current java version is: 1.8.0_181\n",
      "abr 04, 2020 4:28:05 PM org.apache.pdfbox.rendering.PDFRenderer suggestKCMS\n",
      "INFORMACIÓN: To get higher rendering speed on old java 1.8 or 9 versions,\n",
      "abr 04, 2020 4:28:05 PM org.apache.pdfbox.rendering.PDFRenderer suggestKCMS\n",
      "INFORMACIÓN:   update to the latest 1.8 or 9 version (>= 1.8.0_191 or >= 9.0.4),\n",
      "abr 04, 2020 4:28:05 PM org.apache.pdfbox.rendering.PDFRenderer suggestKCMS\n",
      "INFORMACIÓN:   or\n",
      "abr 04, 2020 4:28:05 PM org.apache.pdfbox.rendering.PDFRenderer suggestKCMS\n",
      "INFORMACIÓN:   use the option -Dsun.java2d.cmm=sun.java2d.cmm.kcms.KcmsServiceProvider\n",
      "abr 04, 2020 4:28:05 PM org.apache.pdfbox.rendering.PDFRenderer suggestKCMS\n",
      "INFORMACIÓN:   or call System.setProperty(\"sun.java2d.cmm\", \"sun.java2d.cmm.kcms.KcmsServiceProvider\")\n",
      "abr 04, 2020 4:28:05 PM org.apache.pdfbox.pdmodel.font.PDCIDFontType2 <init>\n",
      "INFORMACIÓN: OpenType Layout tables used in font ABCDEE+Calibri,BoldItalic are not implemented in PDFBox and will be ignored\n",
      "abr 04, 2020 4:28:05 PM org.apache.pdfbox.pdmodel.font.PDCIDFontType2 <init>\n",
      "INFORMACIÓN: OpenType Layout tables used in font ABCDEE+Calibri,Bold are not implemented in PDFBox and will be ignored\n",
      "abr 04, 2020 4:28:05 PM org.apache.pdfbox.pdmodel.font.PDCIDFontType2 <init>\n",
      "INFORMACIÓN: OpenType Layout tables used in font ABCDEE+Calibri are not implemented in PDFBox and will be ignored\n",
      "abr 04, 2020 4:28:06 PM org.apache.pdfbox.pdmodel.font.PDCIDFontType2 <init>\n",
      "INFORMACIÓN: OpenType Layout tables used in font ABCDEE+Calibri,BoldItalic are not implemented in PDFBox and will be ignored\n",
      "abr 04, 2020 4:28:06 PM org.apache.pdfbox.pdmodel.font.PDCIDFontType2 <init>\n",
      "INFORMACIÓN: OpenType Layout tables used in font ABCDEE+Calibri,Bold are not implemented in PDFBox and will be ignored\n",
      "abr 04, 2020 4:28:06 PM org.apache.pdfbox.pdmodel.font.PDCIDFontType2 <init>\n",
      "INFORMACIÓN: OpenType Layout tables used in font ABCDEE+Calibri are not implemented in PDFBox and will be ignored\n",
      "abr 04, 2020 4:28:06 PM org.apache.pdfbox.pdmodel.font.PDCIDFontType2 <init>\n",
      "INFORMACIÓN: OpenType Layout tables used in font ABCDEE+Calibri,BoldItalic are not implemented in PDFBox and will be ignored\n",
      "abr 04, 2020 4:28:06 PM org.apache.pdfbox.pdmodel.font.PDCIDFontType2 <init>\n",
      "INFORMACIÓN: OpenType Layout tables used in font ABCDEE+Calibri,Bold are not implemented in PDFBox and will be ignored\n",
      "abr 04, 2020 4:28:06 PM org.apache.pdfbox.pdmodel.font.PDCIDFontType2 <init>\n",
      "INFORMACIÓN: OpenType Layout tables used in font ABCDEE+Calibri are not implemented in PDFBox and will be ignored\n",
      "abr 04, 2020 4:28:07 PM org.apache.pdfbox.pdmodel.font.PDCIDFontType2 <init>\n",
      "INFORMACIÓN: OpenType Layout tables used in font ABCDEE+Calibri,BoldItalic are not implemented in PDFBox and will be ignored\n",
      "abr 04, 2020 4:28:07 PM org.apache.pdfbox.pdmodel.font.PDCIDFontType2 <init>\n",
      "INFORMACIÓN: OpenType Layout tables used in font ABCDEE+Calibri,Bold are not implemented in PDFBox and will be ignored\n",
      "abr 04, 2020 4:28:07 PM org.apache.pdfbox.pdmodel.font.PDCIDFontType2 <init>\n",
      "INFORMACIÓN: OpenType Layout tables used in font ABCDEE+Calibri are not implemented in PDFBox and will be ignored\n",
      "abr 04, 2020 4:28:07 PM org.apache.pdfbox.pdmodel.font.PDCIDFontType2 <init>\n",
      "INFORMACIÓN: OpenType Layout tables used in font ABCDEE+Calibri,BoldItalic are not implemented in PDFBox and will be ignored\n",
      "abr 04, 2020 4:28:07 PM org.apache.pdfbox.pdmodel.font.PDCIDFontType2 <init>\n",
      "INFORMACIÓN: OpenType Layout tables used in font ABCDEE+Calibri,Bold are not implemented in PDFBox and will be ignored\n",
      "abr 04, 2020 4:28:07 PM org.apache.pdfbox.pdmodel.font.PDCIDFontType2 <init>\n",
      "INFORMACIÓN: OpenType Layout tables used in font ABCDEE+Calibri are not implemented in PDFBox and will be ignored\n",
      "abr 04, 2020 4:28:07 PM org.apache.pdfbox.pdmodel.font.PDCIDFontType2 <init>\n",
      "INFORMACIÓN: OpenType Layout tables used in font ABCDEE+Calibri,BoldItalic are not implemented in PDFBox and will be ignored\n",
      "abr 04, 2020 4:28:07 PM org.apache.pdfbox.pdmodel.font.PDCIDFontType2 <init>\n",
      "INFORMACIÓN: OpenType Layout tables used in font ABCDEE+Calibri,Bold are not implemented in PDFBox and will be ignored\n",
      "abr 04, 2020 4:28:07 PM org.apache.pdfbox.pdmodel.font.PDCIDFontType2 <init>\n",
      "INFORMACIÓN: OpenType Layout tables used in font ABCDEE+Calibri are not implemented in PDFBox and will be ignored\n",
      "abr 04, 2020 4:28:08 PM org.apache.pdfbox.pdmodel.font.PDCIDFontType2 <init>\n",
      "INFORMACIÓN: OpenType Layout tables used in font ABCDEE+Calibri,BoldItalic are not implemented in PDFBox and will be ignored\n",
      "abr 04, 2020 4:28:08 PM org.apache.pdfbox.pdmodel.font.PDCIDFontType2 <init>\n",
      "INFORMACIÓN: OpenType Layout tables used in font ABCDEE+Calibri,Bold are not implemented in PDFBox and will be ignored\n",
      "abr 04, 2020 4:28:08 PM org.apache.pdfbox.pdmodel.font.PDCIDFontType2 <init>\n",
      "INFORMACIÓN: OpenType Layout tables used in font ABCDEE+Calibri are not implemented in PDFBox and will be ignored\n",
      "abr 04, 2020 4:28:08 PM org.apache.pdfbox.pdmodel.font.PDCIDFontType2 <init>\n",
      "INFORMACIÓN: OpenType Layout tables used in font ABCDEE+Calibri,BoldItalic are not implemented in PDFBox and will be ignored\n",
      "abr 04, 2020 4:28:08 PM org.apache.pdfbox.pdmodel.font.PDCIDFontType2 <init>\n",
      "INFORMACIÓN: OpenType Layout tables used in font ABCDEE+Calibri,Bold are not implemented in PDFBox and will be ignored\n",
      "abr 04, 2020 4:28:08 PM org.apache.pdfbox.pdmodel.font.PDCIDFontType2 <init>\n",
      "INFORMACIÓN: OpenType Layout tables used in font ABCDEE+Calibri are not implemented in PDFBox and will be ignored\n",
      "abr 04, 2020 4:28:08 PM org.apache.pdfbox.pdmodel.font.PDCIDFontType2 <init>\n",
      "INFORMACIÓN: OpenType Layout tables used in font ABCDEE+Calibri,BoldItalic are not implemented in PDFBox and will be ignored\n",
      "abr 04, 2020 4:28:08 PM org.apache.pdfbox.pdmodel.font.PDCIDFontType2 <init>\n",
      "INFORMACIÓN: OpenType Layout tables used in font ABCDEE+Calibri,Bold are not implemented in PDFBox and will be ignored\n",
      "abr 04, 2020 4:28:08 PM org.apache.pdfbox.pdmodel.font.PDCIDFontType2 <init>\n",
      "INFORMACIÓN: OpenType Layout tables used in font ABCDEE+Calibri are not implemented in PDFBox and will be ignored\n",
      "abr 04, 2020 4:28:08 PM org.apache.pdfbox.pdmodel.font.PDCIDFontType2 <init>\n",
      "INFORMACIÓN: OpenType Layout tables used in font ABCDEE+Calibri,BoldItalic are not implemented in PDFBox and will be ignored\n",
      "abr 04, 2020 4:28:08 PM org.apache.pdfbox.pdmodel.font.PDCIDFontType2 <init>\n",
      "INFORMACIÓN: OpenType Layout tables used in font ABCDEE+Calibri,Bold are not implemented in PDFBox and will be ignored\n",
      "abr 04, 2020 4:28:08 PM org.apache.pdfbox.pdmodel.font.PDCIDFontType2 <init>\n",
      "INFORMACIÓN: OpenType Layout tables used in font ABCDEE+Calibri are not implemented in PDFBox and will be ignored\n",
      "\n"
     ]
    }
   ],
   "source": [
    "dfs = read_pdf(IN_PDF_FILENAME, multiple_tables=True, pages='all')"
   ]
  },
  {
   "cell_type": "code",
   "execution_count": 20,
   "metadata": {},
   "outputs": [],
   "source": [
    "COLUMNAS = ['Departamento/ Localidad','Confirmados','Descartados','Sospechosos','Total']\n",
    "\n",
    "def fill_department(place_name):\n",
    "    is_dep = any([x.islower() for x in place_name])\n",
    "    place_name = normalize_str(place_name)\n",
    "    return ('D_' if is_dep else '') + place_name\n",
    "    \n",
    "def normal_proc(df):\n",
    "    df = dfs[0].fillna(0)\n",
    "    df = df.rename(columns = {'Confirmado': 'Confirmados',\n",
    "                             'Descartado': 'Descartados',\n",
    "                             'Sospechoso': 'Sospechosos'\n",
    "                            })\n",
    "    if df['Total'].sum()==0 and 'Unnamed: 0' in df.columns:\n",
    "        df['Total'] = df['Unnamed: 0']\n",
    "        df = df.drop(columns='Unnamed: 0')    \n",
    "    assert set(df.columns) == set(COLUMNAS)\n",
    "    df['Departamento/ Localidad']=df['Departamento/ Localidad'].apply(fill_department)\n",
    "    return df\n",
    "def default_colval(col):\n",
    "   return ( 0 if col.startswith('Unnamed') else int(float(col)) )\n",
    "def second_pages(df):\n",
    "    df = df.fillna(0)\n",
    "    to_delete = [col for col in df.columns if col.startswith('Unnamed') and len(df[df[col]==0])>=(len(df)*0.95)]\n",
    "    for c in to_delete:\n",
    "        for _,place_warn in df[df[c]>0][df.columns[0]].iteritems():\n",
    "            print('Warning at place: {}'.format(place_warn))\n",
    "    df = df.drop(columns=to_delete)\n",
    "    assert len(df.columns)==5\n",
    "    df_head = pd.DataFrame(data = [ [df.columns[0]] + [ default_colval(c) for c in df.columns[1:] ] ], columns=COLUMNAS)\n",
    "    df = df.rename(columns = { df.columns[i]: COLUMNAS[i] for i in range(5) })\n",
    "    df = pd.concat([df_head,df])\n",
    "    return df"
   ]
  },
  {
   "cell_type": "code",
   "execution_count": 21,
   "metadata": {},
   "outputs": [
    {
     "name": "stdout",
     "output_type": "stream",
     "text": [
      "1\n",
      "2\n"
     ]
    }
   ],
   "source": [
    "df_base = normal_proc(dfs[0])\n",
    "for i in range(1,len(dfs)-1):\n",
    "    print(i)\n",
    "    df = second_pages(dfs[i])\n",
    "    df = normal_proc(df)\n",
    "    df_base = pd.concat([df_base, df])\n",
    "df_base.to_csv(OUT_CSV_FILENAME)"
   ]
  },
  {
   "cell_type": "code",
   "execution_count": null,
   "metadata": {},
   "outputs": [],
   "source": []
  }
 ],
 "metadata": {
  "kernelspec": {
   "display_name": "firmas",
   "language": "python",
   "name": "firmas"
  },
  "language_info": {
   "codemirror_mode": {
    "name": "ipython",
    "version": 3
   },
   "file_extension": ".py",
   "mimetype": "text/x-python",
   "name": "python",
   "nbconvert_exporter": "python",
   "pygments_lexer": "ipython3",
   "version": "3.8.1"
  }
 },
 "nbformat": 4,
 "nbformat_minor": 2
}
